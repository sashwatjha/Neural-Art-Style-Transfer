{
 "cells": [
  {
   "cell_type": "code",
   "execution_count": 2,
   "metadata": {},
   "outputs": [
    {
     "name": "stdout",
     "output_type": "stream",
     "text": [
      "1. Using Model: candy\n"
     ]
    },
    {
     "ename": "KeyboardInterrupt",
     "evalue": "",
     "output_type": "error",
     "traceback": [
      "\u001b[1;31m---------------------------------------------------------------------------\u001b[0m",
      "\u001b[1;31mKeyboardInterrupt\u001b[0m                         Traceback (most recent call last)",
      "\u001b[1;32m<ipython-input-2-0bc25b1e8829>\u001b[0m in \u001b[0;36m<module>\u001b[1;34m\u001b[0m\n\u001b[0;32m     36\u001b[0m     \u001b[0mcv2\u001b[0m\u001b[1;33m.\u001b[0m\u001b[0mimshow\u001b[0m\u001b[1;33m(\u001b[0m\u001b[1;34m\"Style\"\u001b[0m\u001b[1;33m,\u001b[0m \u001b[0mstyle_scaled\u001b[0m\u001b[1;33m)\u001b[0m\u001b[1;33m\u001b[0m\u001b[1;33m\u001b[0m\u001b[0m\n\u001b[0;32m     37\u001b[0m     \u001b[0mcv2\u001b[0m\u001b[1;33m.\u001b[0m\u001b[0mimshow\u001b[0m\u001b[1;33m(\u001b[0m\u001b[1;34m\"Output\"\u001b[0m\u001b[1;33m,\u001b[0m \u001b[0moutput\u001b[0m\u001b[1;33m)\u001b[0m\u001b[1;33m\u001b[0m\u001b[1;33m\u001b[0m\u001b[0m\n\u001b[1;32m---> 38\u001b[1;33m     \u001b[0mcv2\u001b[0m\u001b[1;33m.\u001b[0m\u001b[0mwaitKey\u001b[0m\u001b[1;33m(\u001b[0m\u001b[1;36m0\u001b[0m\u001b[1;33m)\u001b[0m\u001b[1;33m\u001b[0m\u001b[1;33m\u001b[0m\u001b[0m\n\u001b[0m\u001b[0;32m     39\u001b[0m \u001b[1;33m\u001b[0m\u001b[0m\n\u001b[0;32m     40\u001b[0m \u001b[0mcv2\u001b[0m\u001b[1;33m.\u001b[0m\u001b[0mdestroyAllWindows\u001b[0m\u001b[1;33m(\u001b[0m\u001b[1;33m)\u001b[0m\u001b[1;33m\u001b[0m\u001b[1;33m\u001b[0m\u001b[0m\n",
      "\u001b[1;31mKeyboardInterrupt\u001b[0m: "
     ]
    }
   ],
   "source": [
    "from os import listdir\n",
    "from os.path import isfile, join\n",
    "import cv2\n",
    "\n",
    "model_file_path = \"./\"\n",
    "model_file_paths = [f for f in listdir(model_file_path) if isfile(join(model_file_path, f))]\n",
    "\n",
    "img = cv2.imread(\"img/1.jpg\")\n",
    "\n",
    "for (i,model) in enumerate(model_file_paths):\n",
    "    \n",
    "    print(str(i+1) + \". Using Model: \" + str(model)[:-3])    \n",
    "    style = cv2.imread(\"./art/\"+str(model)[:-3]+\".jpg\")\n",
    "    \n",
    "    neuralStyleModel = cv2.dnn.readNetFromTorch(model_file_path+ model)\n",
    "\n",
    "    height, width = int(img.shape[0]), int(img.shape[1])\n",
    "    newWidth = int((640 / height) * width)\n",
    "    resizedImg = cv2.resize(img, (newWidth, 640), interpolation = cv2.INTER_AREA)\n",
    "\n",
    "    inpBlob = cv2.dnn.blobFromImage(resizedImg, 1.0, (newWidth, 640),\n",
    "                               (103.939, 116.779, 123.68), swapRB=False, crop=False)\n",
    "\n",
    "    neuralStyleModel.setInput(inpBlob)\n",
    "    output = neuralStyleModel.forward()\n",
    "\n",
    "    output = output.reshape(3, output.shape[2], output.shape[3])\n",
    "    output[0] += 103.939\n",
    "    output[1] += 116.779\n",
    "    output[2] += 123.68\n",
    "    output /= 255\n",
    "    output = output.transpose(1, 2, 0)\n",
    "    \n",
    "    cv2.imshow(\"Actual Image\", resizedImg)\n",
    "    style_scaled = cv2.resize(style, None, fx=0.5, fy=0.5, interpolation = cv2.INTER_NEAREST)\n",
    "    cv2.imshow(\"Style\", style_scaled)\n",
    "    cv2.imshow(\"Output\", output)\n",
    "    cv2.waitKey(0)\n",
    "\n",
    "cv2.destroyAllWindows()"
   ]
  },
  {
   "cell_type": "markdown",
   "metadata": {},
   "source": [
    "Developed By Sashwat Jha ;)\n",
    "\n",
    "#https://github.com/sashwatjha"
   ]
  }
 ],
 "metadata": {
  "kernelspec": {
   "display_name": "Python 3",
   "language": "python",
   "name": "python3"
  },
  "language_info": {
   "codemirror_mode": {
    "name": "ipython",
    "version": 3
   },
   "file_extension": ".py",
   "mimetype": "text/x-python",
   "name": "python",
   "nbconvert_exporter": "python",
   "pygments_lexer": "ipython3",
   "version": "3.8.5"
  }
 },
 "nbformat": 4,
 "nbformat_minor": 2
}
